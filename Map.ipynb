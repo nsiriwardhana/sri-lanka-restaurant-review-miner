{
 "cells": [
  {
   "cell_type": "code",
   "execution_count": 1,
   "id": "d62dd07b-0fc4-4526-8589-c202cf8554bf",
   "metadata": {},
   "outputs": [],
   "source": [
    "# !pip install geopy pandas folium\n"
   ]
  },
  {
   "cell_type": "code",
   "execution_count": 2,
   "id": "e94044d8-3f81-4522-9662-e894fa1b28f0",
   "metadata": {},
   "outputs": [
    {
     "name": "stdout",
     "output_type": "stream",
     "text": [
      "✅ Map saved as 'sri_lanka_cities_map.html'\n"
     ]
    }
   ],
   "source": [
    "import pandas as pd\n",
    "from geopy.geocoders import Nominatim\n",
    "from geopy.exc import GeocoderTimedOut\n",
    "import folium\n",
    "import time\n",
    "\n",
    "# Load CSV\n",
    "df = pd.read_csv(\"Cities.csv\")\n",
    "\n",
    "# Initialize geocoder\n",
    "geolocator = Nominatim(user_agent=\"sri_lanka_mapper\")\n",
    "\n",
    "# Function to handle timeouts\n",
    "def geocode_city(city):\n",
    "    try:\n",
    "        location = geolocator.geocode(f\"{city}, Sri Lanka\", timeout=10)\n",
    "        if location:\n",
    "            return pd.Series([location.latitude, location.longitude])\n",
    "        else:\n",
    "            return pd.Series([None, None])\n",
    "    except GeocoderTimedOut:\n",
    "        time.sleep(1)\n",
    "        return geocode_city(city)\n",
    "\n",
    "# Geocode all cities\n",
    "df[['Latitude', 'Longitude']] = df['City'].apply(geocode_city)\n",
    "\n",
    "# Drop any rows where geocoding failed\n",
    "df = df.dropna(subset=['Latitude', 'Longitude'])\n",
    "\n",
    "# Create Folium map centered over Sri Lanka\n",
    "sri_lanka_map = folium.Map(location=[7.8731, 80.7718], zoom_start=7)\n",
    "\n",
    "# Add markers\n",
    "for _, row in df.iterrows():\n",
    "    folium.Marker(\n",
    "        location=[row[\"Latitude\"], row[\"Longitude\"]],\n",
    "        popup=row[\"City\"],\n",
    "        icon=folium.Icon(color=\"green\", icon=\"map-marker\")\n",
    "    ).add_to(sri_lanka_map)\n",
    "\n",
    "# Save to HTML\n",
    "sri_lanka_map.save(\"sri_lanka_cities_map.html\")\n",
    "print(\"✅ Map saved as 'sri_lanka_cities_map.html'\")\n"
   ]
  },
  {
   "cell_type": "code",
   "execution_count": null,
   "id": "184a31f6-a78a-4df3-a47a-e6c12cc4cf38",
   "metadata": {},
   "outputs": [],
   "source": []
  }
 ],
 "metadata": {
  "kernelspec": {
   "display_name": "Python 3 (ipykernel)",
   "language": "python",
   "name": "python3"
  },
  "language_info": {
   "codemirror_mode": {
    "name": "ipython",
    "version": 3
   },
   "file_extension": ".py",
   "mimetype": "text/x-python",
   "name": "python",
   "nbconvert_exporter": "python",
   "pygments_lexer": "ipython3",
   "version": "3.12.7"
  }
 },
 "nbformat": 4,
 "nbformat_minor": 5
}
